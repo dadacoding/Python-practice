{
  "nbformat": 4,
  "nbformat_minor": 0,
  "metadata": {
    "colab": {
      "name": "pythonic-code.ipynb",
      "provenance": []
    },
    "kernelspec": {
      "name": "python3",
      "display_name": "Python 3"
    },
    "language_info": {
      "name": "python"
    }
  },
  "cells": [
    {
      "cell_type": "markdown",
      "source": [
        "학습 출처 : < 머신러닝을 위한 파이썬 > (네이버 부스트코스)"
      ],
      "metadata": {
        "id": "949zymtZpg8w"
      }
    },
    {
      "cell_type": "markdown",
      "source": [
        "# Pythonic Code"
      ],
      "metadata": {
        "id": "MKVmkOKXpKM8"
      }
    },
    {
      "cell_type": "markdown",
      "source": [
        "⚡ 파이썬 스타일 코드 (pythonic code)\n",
        "- 파이썬 스타일의 코딩 기법\n",
        "- 파이썬 특유의 문법을 활용하여 효율적으로 코드 표현\n",
        "- 고급 코드를 작성할수록 더 많이 필요해짐\n",
        "- 다른 사람의 코드에 대한 이해도를 위해\n",
        "- 효율 (단순 for loop append보다 list가 조금 더 빠름) <br>\n",
        "☑ Split & Join  /  List Comprehension  /  Enumerate & Zip"
      ],
      "metadata": {
        "id": "jwMEkO82qAu3"
      }
    },
    {
      "cell_type": "markdown",
      "source": [
        "> Split & Join\n",
        "\n"
      ],
      "metadata": {
        "id": "bNW7aV82pD2s"
      }
    },
    {
      "cell_type": "code",
      "execution_count": 11,
      "metadata": {
        "colab": {
          "base_uri": "https://localhost:8080/",
          "height": 35
        },
        "id": "sgrm7tOL0M2V",
        "outputId": "cfa5d407-9ed8-4a32-8261-35fac46c60ae"
      },
      "outputs": [
        {
          "output_type": "execute_result",
          "data": {
            "application/vnd.google.colaboratory.intrinsic+json": {
              "type": "string"
            },
            "text/plain": [
              "'redbluegreenyellow'"
            ]
          },
          "metadata": {},
          "execution_count": 11
        }
      ],
      "source": [
        "# Join 함수 - String List를 합쳐 하나의 String으로 반환할 때 사용\n",
        "colors = ['red', 'blue', 'green', 'yellow']\n",
        "result = ''.join(colors) # ''안에 공백/,/- 등 연결할 기준 입력\n",
        "result"
      ]
    },
    {
      "cell_type": "code",
      "source": [
        "# Split 함수 - String Type의 값을 나눠서 List 형태로 변환\n",
        "items = 'zero one two three'.split()  # 빈칸을 기준으로 문자열 나누기\n",
        "print(items)"
      ],
      "metadata": {
        "colab": {
          "base_uri": "https://localhost:8080/"
        },
        "id": "qenm3v7j32rI",
        "outputId": "04dc44ae-0019-40f9-ab72-4964ec53b856"
      },
      "execution_count": 5,
      "outputs": [
        {
          "output_type": "stream",
          "name": "stdout",
          "text": [
            "['zero', 'one', 'two', 'three']\n"
          ]
        }
      ]
    },
    {
      "cell_type": "code",
      "source": [
        "example = 'python,jquery,javascript'  # \",\"를 기준으로 문자열 나누기\n",
        "example.split(\",\")\n",
        "\n",
        "a, b, c = example.split(\",\")          # 리스트에 있는 각 값을 a,b,c 변수로 매핑\n",
        "print(a, b, c)                        # 위의 예시로는 각각의 값들이 각각 python > a, jquery > b, javascript > c 로! "
      ],
      "metadata": {
        "colab": {
          "base_uri": "https://localhost:8080/"
        },
        "id": "2iYFQP3p4FbR",
        "outputId": "ac8dd90a-63f8-4d10-ea8f-4f3f8e7043aa"
      },
      "execution_count": 9,
      "outputs": [
        {
          "output_type": "stream",
          "name": "stdout",
          "text": [
            "python jquery javascript\n"
          ]
        }
      ]
    },
    {
      "cell_type": "code",
      "source": [
        "example = 'cs50.gachon.edu'\n",
        "subdomain, domain, tld = example.split('.')  # \".\"을 기준으로 나누기\n",
        "print(subdomain, domain, tld)"
      ],
      "metadata": {
        "colab": {
          "base_uri": "https://localhost:8080/"
        },
        "id": "mFOl9XbE4PsG",
        "outputId": "87aba9ef-bf47-4719-da30-8bcd23eb3e2d"
      },
      "execution_count": 10,
      "outputs": [
        {
          "output_type": "stream",
          "name": "stdout",
          "text": [
            "cs50 gachon edu\n"
          ]
        }
      ]
    },
    {
      "cell_type": "markdown",
      "source": [
        "\n",
        "\n",
        "> List comprehensions\n",
        "\n",
        "- 기존 List 사용하여 간단히 다른 List를 만드는 기법\n",
        "- 포괄적인 List, 포함되는 리스트라는 의미로 사용됨\n",
        "- 파이썬에서 가장 많이 사용되는 기법 중 하나\n",
        "- 일반적으로 for + append보다 속도가 빠름\n",
        "\n",
        "\n"
      ],
      "metadata": {
        "id": "xyWga_34pX83"
      }
    },
    {
      "cell_type": "code",
      "source": [
        "result1 = []         # 리스트 타입 선언\n",
        "\n",
        "for i in range(10): # 0~9까지 값이 i에 들어감\n",
        "  result1.append(i)\n",
        "\n",
        "result1"
      ],
      "metadata": {
        "colab": {
          "base_uri": "https://localhost:8080/"
        },
        "id": "FC3W68QOrwDK",
        "outputId": "2116e7ee-655e-436e-a242-a6da03b654a4"
      },
      "execution_count": 16,
      "outputs": [
        {
          "output_type": "execute_result",
          "data": {
            "text/plain": [
              "[0, 1, 2, 3, 4, 5, 6, 7, 8, 9]"
            ]
          },
          "metadata": {},
          "execution_count": 16
        }
      ]
    },
    {
      "cell_type": "code",
      "source": [
        "result2 = [i for i in range(10)]\n",
        "print(result2)\n",
        "\n",
        "result3 = [i for i in range(10) if i % 2 == 0]  # 필터 추가\n",
        "print(result3)"
      ],
      "metadata": {
        "colab": {
          "base_uri": "https://localhost:8080/"
        },
        "id": "d7v4yBuDsREl",
        "outputId": "bc4d1f61-96ee-4df2-91ea-64bfb3b9626b"
      },
      "execution_count": 17,
      "outputs": [
        {
          "output_type": "stream",
          "name": "stdout",
          "text": [
            "[0, 1, 2, 3, 4, 5, 6, 7, 8, 9]\n",
            "[0, 2, 4, 6, 8]\n"
          ]
        }
      ]
    },
    {
      "cell_type": "code",
      "source": [
        "word_1 = \"Hello\"\n",
        "word_2 = \"World\"\n",
        "result_word = [i+j for i in word_1 for j in word_2]\n",
        "print(result_word)"
      ],
      "metadata": {
        "colab": {
          "base_uri": "https://localhost:8080/"
        },
        "id": "iyps42mes5yv",
        "outputId": "4ae48063-22b0-438f-bc27-6bebd5a538f2"
      },
      "execution_count": 20,
      "outputs": [
        {
          "output_type": "stream",
          "name": "stdout",
          "text": [
            "['HW', 'Ho', 'Hr', 'Hl', 'Hd', 'eW', 'eo', 'er', 'el', 'ed', 'lW', 'lo', 'lr', 'll', 'ld', 'lW', 'lo', 'lr', 'll', 'ld', 'oW', 'oo', 'or', 'ol', 'od']\n"
          ]
        }
      ]
    },
    {
      "cell_type": "code",
      "source": [
        "case_1 = [\"A\", \"B\", \"C\"]\n",
        "case_2 = [\"D\", \"E\", \"A\"]\n",
        "result_case = [i+j for i in case_1 for j in case_2]\n",
        "print(result_case)\n",
        "\n",
        "result_case_2 = [[i+j for i in case_1] for j in case_2]  # 바깥의 list가 먼저 고정됨(D가 먼저 고정)\n",
        "print(result_case_2)\n",
        "\n",
        "result_case_3 = [i+j for i in case_1 for j in case_2 if not(i==j)]  # 필터 추가 (i와 j가 같다면 List에 추가하지 않음)\n",
        "print(result_case_3)\n",
        "\n",
        "result_case_3.sort()\n",
        "print(result_case_3)"
      ],
      "metadata": {
        "colab": {
          "base_uri": "https://localhost:8080/"
        },
        "id": "gUVERM4otq8I",
        "outputId": "7cc921e8-27e7-40fd-fc3a-e53de810ce00"
      },
      "execution_count": 26,
      "outputs": [
        {
          "output_type": "stream",
          "name": "stdout",
          "text": [
            "['AD', 'AE', 'AA', 'BD', 'BE', 'BA', 'CD', 'CE', 'CA']\n",
            "[['AD', 'BD', 'CD'], ['AE', 'BE', 'CE'], ['AA', 'BA', 'CA']]\n",
            "['AD', 'AE', 'BD', 'BE', 'BA', 'CD', 'CE', 'CA']\n",
            "['AD', 'AE', 'BA', 'BD', 'BE', 'CA', 'CD', 'CE']\n"
          ]
        }
      ]
    },
    {
      "cell_type": "code",
      "source": [
        "# split + list Comprehension\n",
        "words = 'The quick brown fox jumps over the lazy dog'.split()  # 문장을 빈칸 기준으로 나눠 list로 변환\n",
        "print(words)\n",
        "\n",
        "# list의 각 elements들을 대문자, 소문자, 길이로 변환하여 two dimensional list로 변환\n",
        "stuff= [[w.upper(), w.lower(), len(w)] for w in words]\n",
        "print(stuff)"
      ],
      "metadata": {
        "colab": {
          "base_uri": "https://localhost:8080/"
        },
        "id": "R39ZUChzusHe",
        "outputId": "665363b3-f834-470a-fea3-a10630069f62"
      },
      "execution_count": 27,
      "outputs": [
        {
          "output_type": "stream",
          "name": "stdout",
          "text": [
            "['The', 'quick', 'brown', 'fox', 'jumps', 'over', 'the', 'lazy', 'dog']\n",
            "[['THE', 'the', 3], ['QUICK', 'quick', 5], ['BROWN', 'brown', 5], ['FOX', 'fox', 3], ['JUMPS', 'jumps', 5], ['OVER', 'over', 4], ['THE', 'the', 3], ['LAZY', 'lazy', 4], ['DOG', 'dog', 3]]\n"
          ]
        }
      ]
    },
    {
      "cell_type": "markdown",
      "source": [
        "\n",
        "\n",
        "> Enumerate & Zip\n",
        "\n",
        "- Enumerate - List의 element를 추출할 때 번호를 붙여서 추출\n",
        "- Zip - 두 개의 list 값을 병렬적으로 추출\n",
        "\n"
      ],
      "metadata": {
        "id": "mQ7kiK8Jxabp"
      }
    },
    {
      "cell_type": "code",
      "source": [
        "for i, v in enumerate(['tt','ta','to']):  # list에 있는 index와 값을 unpacking\n",
        "  print(i,v)\n",
        "\n",
        "mylist = [\"a\",\"b\",\"c\",\"d\"]\n",
        "list(enumerate(mylist))  # list에 있는 index와 값을 unpacking하여 list로 저장"
      ],
      "metadata": {
        "colab": {
          "base_uri": "https://localhost:8080/"
        },
        "id": "E3oP6E2bzKlh",
        "outputId": "1df94077-c099-42c5-80ea-dc14f14e8279"
      },
      "execution_count": 37,
      "outputs": [
        {
          "output_type": "stream",
          "name": "stdout",
          "text": [
            "0 tt\n",
            "1 ta\n",
            "2 to\n"
          ]
        },
        {
          "output_type": "execute_result",
          "data": {
            "text/plain": [
              "[(0, 'a'), (1, 'b'), (2, 'c'), (3, 'd')]"
            ]
          },
          "metadata": {},
          "execution_count": 37
        }
      ]
    },
    {
      "cell_type": "code",
      "source": [
        "{i:j for i,j in enumerate('Ga Uni is an academic institue located in South Korea.'.split())}"
      ],
      "metadata": {
        "colab": {
          "base_uri": "https://localhost:8080/"
        },
        "id": "kmGB5NMrzskN",
        "outputId": "636f7459-6f96-4170-d179-f6ae581b1ebc"
      },
      "execution_count": 36,
      "outputs": [
        {
          "output_type": "execute_result",
          "data": {
            "text/plain": [
              "{0: 'Ga',\n",
              " 1: 'Uni',\n",
              " 2: 'is',\n",
              " 3: 'an',\n",
              " 4: 'academic',\n",
              " 5: 'institue',\n",
              " 6: 'located',\n",
              " 7: 'in',\n",
              " 8: 'South',\n",
              " 9: 'Korea.'}"
            ]
          },
          "metadata": {},
          "execution_count": 36
        }
      ]
    },
    {
      "cell_type": "code",
      "source": [
        "# for loop + zip\n",
        "\n",
        "alist = ['a1', 'a2', 'a3']\n",
        "blist = ['b1', 'b2', 'b3']\n",
        "\n",
        "for a, b in zip(alist, blist):\n",
        "    print(a, b)"
      ],
      "metadata": {
        "colab": {
          "base_uri": "https://localhost:8080/"
        },
        "id": "XguMcbAwyvci",
        "outputId": "684fff3f-935b-4d48-9526-d31cf6e617ad"
      },
      "execution_count": 38,
      "outputs": [
        {
          "output_type": "stream",
          "name": "stdout",
          "text": [
            "a1 b1\n",
            "a2 b2\n",
            "a3 b3\n"
          ]
        }
      ]
    },
    {
      "cell_type": "code",
      "source": [
        "# list comprehension + zip\n",
        "\n",
        "a, b, c = zip((1, 2, 3), (10, 20, 30), (100, 200, 300))  # 각 tuple의 같은 index끼리 묶음\n",
        "print(a, b, c)\n",
        "\n",
        "print([sum(x) for x in zip((1, 2, 3), (10, 20, 30), (100, 200, 300))]) # 각 tuple의 같은 index를 묶어 합을 list로 변환"
      ],
      "metadata": {
        "colab": {
          "base_uri": "https://localhost:8080/"
        },
        "id": "fXDS9tNYy2WG",
        "outputId": "3e21fc5a-f639-489a-d1f6-f4a0456da96c"
      },
      "execution_count": 39,
      "outputs": [
        {
          "output_type": "stream",
          "name": "stdout",
          "text": [
            "(1, 10, 100) (2, 20, 200) (3, 30, 300)\n",
            "[111, 222, 333]\n"
          ]
        }
      ]
    },
    {
      "cell_type": "code",
      "source": [
        "# enumerate + zip\n",
        "\n",
        "alist = ['a1', 'a2', 'a3']\n",
        "blist = ['b1', 'b2', 'b3']\n",
        "\n",
        "for i, (a, b) in enumerate(zip(alist, blist)):\n",
        "    print(i, a, b)  # index alist[index] blist[index] 표시"
      ],
      "metadata": {
        "colab": {
          "base_uri": "https://localhost:8080/"
        },
        "id": "Q03D7ZGWy2g5",
        "outputId": "38f6985b-e8ca-4d17-f16e-125f2593ca48"
      },
      "execution_count": 40,
      "outputs": [
        {
          "output_type": "stream",
          "name": "stdout",
          "text": [
            "0 a1 b1\n",
            "1 a2 b2\n",
            "2 a3 b3\n"
          ]
        }
      ]
    },
    {
      "cell_type": "markdown",
      "source": [
        "\n",
        "\n",
        "> Lambda\n",
        "\n",
        "- 함수 이름 없이, 함수처럼 쓸 수 있는 익명함수\n",
        "- 수학의 람다 대수에서 유래함\n",
        "- Python3부터는 권장하지는 않으나 여전히 많이 쓰임\n",
        "\n"
      ],
      "metadata": {
        "id": "M5FobPgQ0oLb"
      }
    },
    {
      "cell_type": "code",
      "source": [
        "# 일반적인 함수\n",
        "def f(x,y):\n",
        "  return x + y\n",
        "print(f(1,4))\n",
        "\n",
        "# 람다 함수\n",
        "f = lambda x, y: x + y\n",
        "print(f(1,4))"
      ],
      "metadata": {
        "colab": {
          "base_uri": "https://localhost:8080/"
        },
        "id": "sN2QbaDV1IpO",
        "outputId": "dccac092-feb7-4aae-da37-aebe1611c2e0"
      },
      "execution_count": 43,
      "outputs": [
        {
          "output_type": "stream",
          "name": "stdout",
          "text": [
            "5\n",
            "5\n"
          ]
        }
      ]
    },
    {
      "cell_type": "markdown",
      "source": [
        "\n",
        "\n",
        "> Map & Reduce\n",
        "\n",
        "- Map function - Sequence 자료형(ex.리스트,튜플) 각 element에 동일한 function을 적용함\n",
        "- Reduce function - map function과 달리 list에 똑같은 함수를 적용해서 통합\n",
        "\n"
      ],
      "metadata": {
        "id": "Qso0i7Ys111i"
      }
    },
    {
      "cell_type": "code",
      "source": [
        "# Map\n",
        "\n",
        "ex = [1, 2, 3, 4, 5]\n",
        "f = lambda x: x ** 2\n",
        "print(list(map(f, ex)))\n",
        "\n",
        "# zip과 거의 같은 기능\n",
        "f = lambda x, y: x + y\n",
        "print(list(map(f, ex, ex)))"
      ],
      "metadata": {
        "colab": {
          "base_uri": "https://localhost:8080/"
        },
        "id": "G6Idm1rK11Uz",
        "outputId": "6e4a2294-267c-46d2-dd48-f73b779c8eac"
      },
      "execution_count": 49,
      "outputs": [
        {
          "output_type": "stream",
          "name": "stdout",
          "text": [
            "[1, 4, 9, 16, 25]\n",
            "[2, 4, 6, 8, 10]\n"
          ]
        }
      ]
    },
    {
      "cell_type": "code",
      "source": [
        "# Reduce\n",
        "\n",
        "from functools import reduce\n",
        "print(reduce(lambda x, y: x+y, [1, 2, 3, 4, 5]))"
      ],
      "metadata": {
        "colab": {
          "base_uri": "https://localhost:8080/"
        },
        "id": "kPu5XHIr30jq",
        "outputId": "14d60669-8ade-4981-9290-efa446f6b41a"
      },
      "execution_count": 50,
      "outputs": [
        {
          "output_type": "stream",
          "name": "stdout",
          "text": [
            "15\n"
          ]
        }
      ]
    },
    {
      "cell_type": "markdown",
      "source": [
        "\n",
        "\n",
        "> Asterisk\n",
        "\n",
        "- 흔히 알고 있는 *를 의미함\n",
        "- 단순 곱셈, 제곱연산, 가변인자 활용 등 다양하게 사용됨\n",
        "\n"
      ],
      "metadata": {
        "id": "go-nZZ1K5D7j"
      }
    },
    {
      "cell_type": "code",
      "source": [
        "def asterisk_test(a, *args):\n",
        "    print(a, args)\n",
        "    print(type(args))\n",
        "\n",
        "asterisk_test(1,2,3,4,5,6)"
      ],
      "metadata": {
        "colab": {
          "base_uri": "https://localhost:8080/"
        },
        "id": "65_y6Lvd5Y5m",
        "outputId": "1443d4af-30ce-4c97-e127-bea3da90ff43"
      },
      "execution_count": 51,
      "outputs": [
        {
          "output_type": "stream",
          "name": "stdout",
          "text": [
            "1 (2, 3, 4, 5, 6)\n",
            "<class 'tuple'>\n"
          ]
        }
      ]
    },
    {
      "cell_type": "code",
      "source": [
        "def asterisk_test(a, **kargs):\n",
        "    print(a, kargs)\n",
        "    print(type(kargs))\n",
        "\n",
        "asterisk_test(1, b=2, c=3, d=4, e=5, f=6)"
      ],
      "metadata": {
        "colab": {
          "base_uri": "https://localhost:8080/"
        },
        "id": "72FcNVYJ5v0Z",
        "outputId": "86bb82e9-6f83-448c-b0da-ee0745cab160"
      },
      "execution_count": 52,
      "outputs": [
        {
          "output_type": "stream",
          "name": "stdout",
          "text": [
            "1 {'b': 2, 'c': 3, 'd': 4, 'e': 5, 'f': 6}\n",
            "<class 'dict'>\n"
          ]
        }
      ]
    },
    {
      "cell_type": "code",
      "source": [
        "def asterisk_test(a, *args):\n",
        "    print(a, args[0])\n",
        "    print(type(args))\n",
        "\n",
        "asterisk_test(1, (2, 3, 4, 5, 6))"
      ],
      "metadata": {
        "colab": {
          "base_uri": "https://localhost:8080/"
        },
        "id": "823gMeZ56BU9",
        "outputId": "5caeb799-3b48-4992-dab1-3d1e7123bd03"
      },
      "execution_count": 54,
      "outputs": [
        {
          "output_type": "stream",
          "name": "stdout",
          "text": [
            "1 (2, 3, 4, 5, 6)\n",
            "<class 'tuple'>\n"
          ]
        }
      ]
    },
    {
      "cell_type": "code",
      "source": [
        "def asterisk_test(a, args):\n",
        "    print(a, *args)   # 앞에 *를 붙여 unpacking\n",
        "    print(type(args))\n",
        "\n",
        "asterisk_test(1, (2,3,4,5,6))"
      ],
      "metadata": {
        "colab": {
          "base_uri": "https://localhost:8080/"
        },
        "id": "RTA0AEMA6CoZ",
        "outputId": "af22d11c-dbe5-4720-f428-9c32eb14d813"
      },
      "execution_count": 55,
      "outputs": [
        {
          "output_type": "stream",
          "name": "stdout",
          "text": [
            "1 2 3 4 5 6\n",
            "<class 'tuple'>\n"
          ]
        }
      ]
    },
    {
      "cell_type": "code",
      "source": [
        "a, b, c = ([1, 2], [3, 4], [5, 6])\n",
        "print(a, b, c)\n",
        "\n",
        "data = ([1, 2], [3, 4], [5, 6])\n",
        "print(*data)"
      ],
      "metadata": {
        "colab": {
          "base_uri": "https://localhost:8080/"
        },
        "id": "0muCxZEt6Crh",
        "outputId": "f8228469-2b2d-4e64-f047-1f40c24a0ad3"
      },
      "execution_count": 56,
      "outputs": [
        {
          "output_type": "stream",
          "name": "stdout",
          "text": [
            "[1, 2] [3, 4] [5, 6]\n",
            "[1, 2] [3, 4] [5, 6]\n"
          ]
        }
      ]
    },
    {
      "cell_type": "code",
      "source": [
        "for data in zip(*([1, 2], [3, 4], [5, 6])):\n",
        "    print(sum(data))   # 1+3+5 / 2+4+6"
      ],
      "metadata": {
        "colab": {
          "base_uri": "https://localhost:8080/"
        },
        "id": "JCVKUpyY6FYx",
        "outputId": "bd4ae36b-0e41-4967-a2b4-89e128641382"
      },
      "execution_count": 60,
      "outputs": [
        {
          "output_type": "stream",
          "name": "stdout",
          "text": [
            "9\n",
            "12\n"
          ]
        }
      ]
    },
    {
      "cell_type": "code",
      "source": [
        "def asterisk_test(a, b, c, d, e=0):\n",
        "    print(a, b, c, d, e)\n",
        "\n",
        "data = {\"d\":1 , \"c\":2, \"b\":3, \"e\":56}\n",
        "asterisk_test(10, **data)"
      ],
      "metadata": {
        "colab": {
          "base_uri": "https://localhost:8080/"
        },
        "id": "ow5aq-PK6Gh1",
        "outputId": "5db90021-6f66-4e23-9666-b2e0e50fc369"
      },
      "execution_count": 61,
      "outputs": [
        {
          "output_type": "stream",
          "name": "stdout",
          "text": [
            "10 3 2 1 56\n"
          ]
        }
      ]
    }
  ]
}